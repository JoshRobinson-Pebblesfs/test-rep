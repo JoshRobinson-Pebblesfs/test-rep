{
 "cells": [
  {
   "cell_type": "code",
   "execution_count": 1,
   "id": "3623aefa-c254-4862-9820-b2ea15467da7",
   "metadata": {},
   "outputs": [
    {
     "name": "stdout",
     "output_type": "stream",
     "text": [
      "This is ben\n"
     ]
    }
   ],
   "source": [
    "print('This is ben')"
   ]
  },
  {
   "cell_type": "code",
   "execution_count": null,
   "id": "53414e14-cd19-4647-937b-7c783babeba8",
   "metadata": {},
   "outputs": [],
   "source": []
  }
 ],
 "metadata": {
  "environment": {
   "kernel": "python3",
   "name": "common-cpu.m97",
   "type": "gcloud",
   "uri": "gcr.io/deeplearning-platform-release/base-cpu:m97"
  },
  "kernelspec": {
   "display_name": "Python 3",
   "language": "python",
   "name": "python3"
  },
  "language_info": {
   "codemirror_mode": {
    "name": "ipython",
    "version": 3
   },
   "file_extension": ".py",
   "mimetype": "text/x-python",
   "name": "python",
   "nbconvert_exporter": "python",
   "pygments_lexer": "ipython3",
   "version": "3.7.12"
  }
 },
 "nbformat": 4,
 "nbformat_minor": 5
}
