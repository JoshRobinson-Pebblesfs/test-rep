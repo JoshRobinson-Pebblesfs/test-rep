{
 "cells": [
  {
   "cell_type": "code",
   "execution_count": 1,
   "id": "1b471ccc-645c-4e71-b3a8-6debb35a9083",
   "metadata": {},
   "outputs": [],
   "source": [
    "from google.cloud import aiplatform\n",
    "aiplatform.init()"
   ]
  },
  {
   "cell_type": "code",
   "execution_count": 2,
   "id": "596f3dfa-1390-437a-b53d-41a82bc01af1",
   "metadata": {},
   "outputs": [
    {
     "name": "stdout",
     "output_type": "stream",
     "text": [
      "hello world\n"
     ]
    }
   ],
   "source": [
    "print(\"hello world\")"
   ]
  },
  {
   "cell_type": "code",
   "execution_count": 2,
   "id": "b1994fd2-cb2e-431b-9ce6-c997c0123021",
   "metadata": {},
   "outputs": [
    {
     "name": "stdout",
     "output_type": "stream",
     "text": [
      "This is Ben\n"
     ]
    }
   ],
   "source": [
    "print('This is Ben')"
   ]
  },
  {
   "cell_type": "code",
   "execution_count": 3,
   "id": "4d789133-0e80-4c60-ada5-142b9ce97f74",
   "metadata": {},
   "outputs": [
    {
     "name": "stdout",
     "output_type": "stream",
     "text": [
      "Another commit test\n"
     ]
    }
   ],
   "source": [
    "print(\"Another commit test\")"
   ]
  },
  {
   "cell_type": "code",
   "execution_count": null,
   "id": "47f59a07-ab88-4bc1-a83a-684d8baac4c2",
   "metadata": {},
   "outputs": [],
   "source": [
    "print(\"Changes\")"
   ]
  },
  {
   "cell_type": "code",
   "execution_count": null,
   "id": "70414a79-b051-4059-a927-054f612bf486",
   "metadata": {},
   "outputs": [],
   "source": [
    "print('ahhh i can see!')"
   ]
  }
 ],
 "metadata": {
  "environment": {
   "kernel": "python3",
   "name": "common-cpu.m97",
   "type": "gcloud",
   "uri": "gcr.io/deeplearning-platform-release/base-cpu:m97"
  },
  "kernelspec": {
   "display_name": "Python 3",
   "language": "python",
   "name": "python3"
  },
  "language_info": {
   "codemirror_mode": {
    "name": "ipython",
    "version": 3
   },
   "file_extension": ".py",
   "mimetype": "text/x-python",
   "name": "python",
   "nbconvert_exporter": "python",
   "pygments_lexer": "ipython3",
   "version": "3.7.12"
  }
 },
 "nbformat": 4,
 "nbformat_minor": 5
}
