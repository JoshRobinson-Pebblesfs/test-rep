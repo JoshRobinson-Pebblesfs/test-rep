{
 "cells": [
  {
   "cell_type": "code",
   "execution_count": 1,
   "id": "76ac546c-8fa6-4819-803d-d2750866ee8d",
   "metadata": {},
   "outputs": [
    {
     "name": "stdout",
     "output_type": "stream",
     "text": [
      "Orla notebook test\n"
     ]
    }
   ],
   "source": [
    "print('Orla notebook test')"
   ]
  },
  {
   "cell_type": "code",
   "execution_count": null,
   "id": "e13a576f-aad0-487e-81c1-7d05ec836d20",
   "metadata": {},
   "outputs": [],
   "source": []
  }
 ],
 "metadata": {
  "environment": {
   "kernel": "python3",
   "name": "common-cpu.m97",
   "type": "gcloud",
   "uri": "gcr.io/deeplearning-platform-release/base-cpu:m97"
  },
  "kernelspec": {
   "display_name": "Python 3",
   "language": "python",
   "name": "python3"
  },
  "language_info": {
   "codemirror_mode": {
    "name": "ipython",
    "version": 3
   },
   "file_extension": ".py",
   "mimetype": "text/x-python",
   "name": "python",
   "nbconvert_exporter": "python",
   "pygments_lexer": "ipython3",
   "version": "3.7.12"
  }
 },
 "nbformat": 4,
 "nbformat_minor": 5
}
